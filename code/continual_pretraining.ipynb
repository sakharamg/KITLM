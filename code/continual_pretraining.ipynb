{
 "cells": [
  {
   "cell_type": "code",
   "execution_count": 4,
   "metadata": {},
   "outputs": [
    {
     "name": "stdout",
     "output_type": "stream",
     "text": [
      "Requirement already satisfied: sentencepiece in /opt/conda/lib/python3.8/site-packages (0.1.94)\n",
      "Collecting datasets\n",
      "  Downloading datasets-2.12.0-py3-none-any.whl (474 kB)\n",
      "\u001b[K     |████████████████████████████████| 474 kB 17.7 MB/s eta 0:00:01\n",
      "\u001b[?25hCollecting pyarrow>=8.0.0\n",
      "  Downloading pyarrow-11.0.0-cp38-cp38-manylinux_2_17_x86_64.manylinux2014_x86_64.whl (35.0 MB)\n",
      "\u001b[K     |████████████████████████████████| 35.0 MB 54.7 MB/s eta 0:00:01\n",
      "\u001b[?25hCollecting responses<0.19\n",
      "  Downloading responses-0.18.0-py3-none-any.whl (38 kB)\n",
      "Requirement already satisfied: numpy>=1.17 in /opt/conda/lib/python3.8/site-packages (from datasets) (1.19.2)\n",
      "Collecting xxhash\n",
      "  Downloading xxhash-3.2.0-cp38-cp38-manylinux_2_17_x86_64.manylinux2014_x86_64.whl (213 kB)\n",
      "\u001b[K     |████████████████████████████████| 213 kB 86.0 MB/s eta 0:00:01\n",
      "\u001b[?25hRequirement already satisfied: pandas in /opt/conda/lib/python3.8/site-packages (from datasets) (1.1.4)\n",
      "Collecting tqdm>=4.62.1\n",
      "  Downloading tqdm-4.65.0-py3-none-any.whl (77 kB)\n",
      "\u001b[K     |████████████████████████████████| 77 kB 26.1 MB/s eta 0:00:01\n",
      "\u001b[?25hCollecting fsspec[http]>=2021.11.1\n",
      "  Downloading fsspec-2023.4.0-py3-none-any.whl (153 kB)\n",
      "\u001b[K     |████████████████████████████████| 153 kB 94.6 MB/s eta 0:00:01\n",
      "\u001b[?25hCollecting multiprocess\n",
      "  Downloading multiprocess-0.70.14-py38-none-any.whl (132 kB)\n",
      "\u001b[K     |████████████████████████████████| 132 kB 99.9 MB/s eta 0:00:01\n",
      "\u001b[?25hRequirement already satisfied: requests>=2.19.0 in /opt/conda/lib/python3.8/site-packages (from datasets) (2.24.0)\n",
      "Collecting dill<0.3.7,>=0.3.0\n",
      "  Downloading dill-0.3.6-py3-none-any.whl (110 kB)\n",
      "\u001b[K     |████████████████████████████████| 110 kB 103.1 MB/s eta 0:00:01\n",
      "\u001b[?25hRequirement already satisfied: pyyaml>=5.1 in /opt/conda/lib/python3.8/site-packages (from datasets) (5.3.1)\n",
      "Requirement already satisfied: huggingface-hub<1.0.0,>=0.11.0 in /opt/conda/lib/python3.8/site-packages (from datasets) (0.13.4)\n",
      "Collecting aiohttp\n",
      "  Downloading aiohttp-3.8.4-cp38-cp38-manylinux_2_17_x86_64.manylinux2014_x86_64.whl (1.0 MB)\n",
      "\u001b[K     |████████████████████████████████| 1.0 MB 71.0 MB/s eta 0:00:01\n",
      "\u001b[?25hRequirement already satisfied: packaging in /opt/conda/lib/python3.8/site-packages (from datasets) (20.4)\n",
      "Requirement already satisfied: urllib3>=1.25.10 in /opt/conda/lib/python3.8/site-packages (from responses<0.19->datasets) (1.25.11)\n",
      "Requirement already satisfied: pytz>=2017.2 in /opt/conda/lib/python3.8/site-packages (from pandas->datasets) (2020.1)\n",
      "Requirement already satisfied: python-dateutil>=2.7.3 in /opt/conda/lib/python3.8/site-packages (from pandas->datasets) (2.8.1)\n",
      "Requirement already satisfied: chardet<4,>=3.0.2 in /opt/conda/lib/python3.8/site-packages (from requests>=2.19.0->datasets) (3.0.4)\n",
      "Requirement already satisfied: certifi>=2017.4.17 in /opt/conda/lib/python3.8/site-packages (from requests>=2.19.0->datasets) (2020.11.8)\n",
      "Requirement already satisfied: idna<3,>=2.5 in /opt/conda/lib/python3.8/site-packages (from requests>=2.19.0->datasets) (2.10)\n",
      "Requirement already satisfied: typing-extensions>=3.7.4.3 in /opt/conda/lib/python3.8/site-packages (from huggingface-hub<1.0.0,>=0.11.0->datasets) (3.7.4.3)\n",
      "Requirement already satisfied: filelock in /opt/conda/lib/python3.8/site-packages (from huggingface-hub<1.0.0,>=0.11.0->datasets) (3.0.12)\n",
      "Collecting async-timeout<5.0,>=4.0.0a3\n",
      "  Downloading async_timeout-4.0.2-py3-none-any.whl (5.8 kB)\n",
      "Collecting charset-normalizer<4.0,>=2.0\n",
      "  Downloading charset_normalizer-3.1.0-cp38-cp38-manylinux_2_17_x86_64.manylinux2014_x86_64.whl (195 kB)\n",
      "\u001b[K     |████████████████████████████████| 195 kB 84.8 MB/s eta 0:00:01\n",
      "\u001b[?25hCollecting aiosignal>=1.1.2\n",
      "  Downloading aiosignal-1.3.1-py3-none-any.whl (7.6 kB)\n",
      "Collecting frozenlist>=1.1.1\n",
      "  Downloading frozenlist-1.3.3-cp38-cp38-manylinux_2_5_x86_64.manylinux1_x86_64.manylinux_2_17_x86_64.manylinux2014_x86_64.whl (161 kB)\n",
      "\u001b[K     |████████████████████████████████| 161 kB 78.3 MB/s eta 0:00:01\n",
      "\u001b[?25hCollecting yarl<2.0,>=1.0\n",
      "  Downloading yarl-1.9.2-cp38-cp38-manylinux_2_17_x86_64.manylinux2014_x86_64.whl (266 kB)\n",
      "\u001b[K     |████████████████████████████████| 266 kB 85.6 MB/s eta 0:00:01\n",
      "\u001b[?25hRequirement already satisfied: attrs>=17.3.0 in /opt/conda/lib/python3.8/site-packages (from aiohttp->datasets) (20.3.0)\n",
      "Collecting multidict<7.0,>=4.5\n",
      "  Downloading multidict-6.0.4-cp38-cp38-manylinux_2_17_x86_64.manylinux2014_x86_64.whl (121 kB)\n",
      "\u001b[K     |████████████████████████████████| 121 kB 91.9 MB/s eta 0:00:01\n",
      "\u001b[?25hRequirement already satisfied: pyparsing>=2.0.2 in /opt/conda/lib/python3.8/site-packages (from packaging->datasets) (2.4.7)\n",
      "Requirement already satisfied: six in /opt/conda/lib/python3.8/site-packages (from packaging->datasets) (1.15.0)\n",
      "Installing collected packages: pyarrow, responses, xxhash, tqdm, async-timeout, charset-normalizer, frozenlist, aiosignal, multidict, yarl, aiohttp, fsspec, dill, multiprocess, datasets\n",
      "  Attempting uninstall: tqdm\n",
      "    Found existing installation: tqdm 4.53.0\n",
      "    Uninstalling tqdm-4.53.0:\n",
      "      Successfully uninstalled tqdm-4.53.0\n",
      "\u001b[31mERROR: After October 2020 you may experience errors when installing or updating packages. This is because pip will change the way that it resolves dependency conflicts.\n",
      "\n",
      "We recommend you use --use-feature=2020-resolver to test your packages with the new resolver before it becomes the default.\n",
      "\n",
      "huggingface-hub 0.13.4 requires packaging>=20.9, but you'll have packaging 20.4 which is incompatible.\u001b[0m\n",
      "Successfully installed aiohttp-3.8.4 aiosignal-1.3.1 async-timeout-4.0.2 charset-normalizer-3.1.0 datasets-2.12.0 dill-0.3.6 frozenlist-1.3.3 fsspec-2023.4.0 multidict-6.0.4 multiprocess-0.70.14 pyarrow-11.0.0 responses-0.18.0 tqdm-4.65.0 xxhash-3.2.0 yarl-1.9.2\n"
     ]
    }
   ],
   "source": [
    "!pip install sentencepiece datasets"
   ]
  },
  {
   "cell_type": "code",
   "execution_count": 60,
   "metadata": {},
   "outputs": [
    {
     "ename": "NameError",
     "evalue": "name 'transformers' is not defined",
     "output_type": "error",
     "traceback": [
      "\u001b[0;31m---------------------------------------------------------------------------\u001b[0m",
      "\u001b[0;31mNameError\u001b[0m                                 Traceback (most recent call last)",
      "\u001b[0;32m<ipython-input-60-de6040bb8a15>\u001b[0m in \u001b[0;36m<module>\u001b[0;34m\u001b[0m\n\u001b[0;32m----> 1\u001b[0;31m \u001b[0mprint\u001b[0m\u001b[0;34m(\u001b[0m\u001b[0mtransformers\u001b[0m\u001b[0;34m.\u001b[0m\u001b[0m__version__\u001b[0m\u001b[0;34m)\u001b[0m\u001b[0;34m\u001b[0m\u001b[0;34m\u001b[0m\u001b[0m\n\u001b[0m",
      "\u001b[0;31mNameError\u001b[0m: name 'transformers' is not defined"
     ]
    }
   ],
   "source": []
  },
  {
   "cell_type": "code",
   "execution_count": 5,
   "metadata": {},
   "outputs": [
    {
     "name": "stdout",
     "output_type": "stream",
     "text": [
      "Requirement already satisfied: seaborn in /opt/conda/lib/python3.8/site-packages (0.12.2)\n",
      "Requirement already satisfied: matplotlib!=3.6.1,>=3.1 in /opt/conda/lib/python3.8/site-packages (from seaborn) (3.3.3)\n",
      "Requirement already satisfied: numpy!=1.24.0,>=1.17 in /opt/conda/lib/python3.8/site-packages (from seaborn) (1.19.2)\n",
      "Requirement already satisfied: pandas>=0.25 in /opt/conda/lib/python3.8/site-packages (from seaborn) (1.1.4)\n",
      "Requirement already satisfied: cycler>=0.10 in /opt/conda/lib/python3.8/site-packages (from matplotlib!=3.6.1,>=3.1->seaborn) (0.10.0)\n",
      "Requirement already satisfied: pillow>=6.2.0 in /opt/conda/lib/python3.8/site-packages (from matplotlib!=3.6.1,>=3.1->seaborn) (9.5.0)\n",
      "Requirement already satisfied: pyparsing!=2.0.4,!=2.1.2,!=2.1.6,>=2.0.3 in /opt/conda/lib/python3.8/site-packages (from matplotlib!=3.6.1,>=3.1->seaborn) (2.4.7)\n",
      "Requirement already satisfied: kiwisolver>=1.0.1 in /opt/conda/lib/python3.8/site-packages (from matplotlib!=3.6.1,>=3.1->seaborn) (1.3.1)\n",
      "Requirement already satisfied: python-dateutil>=2.1 in /opt/conda/lib/python3.8/site-packages (from matplotlib!=3.6.1,>=3.1->seaborn) (2.8.1)\n",
      "Requirement already satisfied: pytz>=2017.2 in /opt/conda/lib/python3.8/site-packages (from pandas>=0.25->seaborn) (2020.1)\n",
      "Requirement already satisfied: six in /opt/conda/lib/python3.8/site-packages (from cycler>=0.10->matplotlib!=3.6.1,>=3.1->seaborn) (1.15.0)\n"
     ]
    }
   ],
   "source": [
    "!pip install seaborn"
   ]
  },
  {
   "cell_type": "code",
   "execution_count": 62,
   "metadata": {},
   "outputs": [],
   "source": [
    "import pandas as pd\n",
    "import random\n",
    "import csv\n",
    "import numpy as np\n",
    "from datasets import load_dataset\n",
    "from transformers import T5Tokenizer, T5ForConditionalGeneration, T5Config\n",
    "from transformers import  DataCollatorWithPadding\n",
    "from transformers import get_scheduler\n",
    "from torch.utils.data import DataLoader\n",
    "from tqdm.auto import tqdm\n",
    "from transformers import Adafactor\n",
    "import torch"
   ]
  },
  {
   "cell_type": "code",
   "execution_count": 63,
   "metadata": {},
   "outputs": [
    {
     "name": "stdout",
     "output_type": "stream",
     "text": [
      "4.28.1\n"
     ]
    }
   ],
   "source": [
    "import transformers\n",
    "print(transformers.__version__)"
   ]
  },
  {
   "cell_type": "code",
   "execution_count": 37,
   "metadata": {},
   "outputs": [],
   "source": [
    "triples = []\n",
    "total = 0\n",
    "files = [\"test.txt\", \"train.txt\", \"valid.txt\"]\n",
    "for f in files:\n",
    "    with open(f'aviationKG/AviationKG_{f}', newline='') as file:\n",
    "        lines = file.readlines()\n",
    "        total += len(lines)\n",
    "        for line in lines:\n",
    "            tokens = line.split(\"\\t\")\n",
    "            if len(tokens) != 3:\n",
    "                print(tokens)\n",
    "                continue\n",
    "                \n",
    "            tokens =  [token.strip() for token in tokens]\n",
    "            tokens[0] = tokens[0][13:].strip()\n",
    "            triples.append(tokens)\n",
    "        \n",
    "        "
   ]
  },
  {
   "cell_type": "code",
   "execution_count": 38,
   "metadata": {},
   "outputs": [
    {
     "data": {
      "text/plain": [
       "96686"
      ]
     },
     "execution_count": 38,
     "metadata": {},
     "output_type": "execute_result"
    }
   ],
   "source": [
    "len(triples)"
   ]
  },
  {
   "cell_type": "code",
   "execution_count": 39,
   "metadata": {},
   "outputs": [
    {
     "data": {
      "text/plain": [
       "['r_LAX00LA285', 'type', 'NamedIndividual']"
      ]
     },
     "execution_count": 39,
     "metadata": {},
     "output_type": "execute_result"
    }
   ],
   "source": [
    "triples[1]"
   ]
  },
  {
   "cell_type": "code",
   "execution_count": 40,
   "metadata": {},
   "outputs": [],
   "source": [
    "random.seed(0)\n",
    "random.shuffle(triples)"
   ]
  },
  {
   "cell_type": "code",
   "execution_count": 41,
   "metadata": {},
   "outputs": [],
   "source": [
    "df = pd.DataFrame(triples, columns =['subject', 'relation', 'object'])\n"
   ]
  },
  {
   "cell_type": "code",
   "execution_count": 42,
   "metadata": {},
   "outputs": [
    {
     "data": {
      "text/plain": [
       "96686"
      ]
     },
     "execution_count": 42,
     "metadata": {},
     "output_type": "execute_result"
    }
   ],
   "source": [
    "len(df)"
   ]
  },
  {
   "cell_type": "code",
   "execution_count": 43,
   "metadata": {},
   "outputs": [
    {
     "data": {
      "text/html": [
       "<div>\n",
       "<style scoped>\n",
       "    .dataframe tbody tr th:only-of-type {\n",
       "        vertical-align: middle;\n",
       "    }\n",
       "\n",
       "    .dataframe tbody tr th {\n",
       "        vertical-align: top;\n",
       "    }\n",
       "\n",
       "    .dataframe thead th {\n",
       "        text-align: right;\n",
       "    }\n",
       "</style>\n",
       "<table border=\"1\" class=\"dataframe\">\n",
       "  <thead>\n",
       "    <tr style=\"text-align: right;\">\n",
       "      <th></th>\n",
       "      <th>subject</th>\n",
       "      <th>relation</th>\n",
       "      <th>object</th>\n",
       "    </tr>\n",
       "  </thead>\n",
       "  <tbody>\n",
       "    <tr>\n",
       "      <th>0</th>\n",
       "      <td>r_FTW03LA001</td>\n",
       "      <td>type</td>\n",
       "      <td>Accident_Number</td>\n",
       "    </tr>\n",
       "    <tr>\n",
       "      <th>1</th>\n",
       "      <td>N366KR</td>\n",
       "      <td>hasEmergencyLocatorTransmitterInstalled</td>\n",
       "      <td>false</td>\n",
       "    </tr>\n",
       "    <tr>\n",
       "      <th>2</th>\n",
       "      <td>r_CHI04LA052</td>\n",
       "      <td>unitOfTemperature</td>\n",
       "      <td>degreeCelsius</td>\n",
       "    </tr>\n",
       "    <tr>\n",
       "      <th>3</th>\n",
       "      <td>r_LAX02LA036</td>\n",
       "      <td>hasWindSpeed</td>\n",
       "      <td>4</td>\n",
       "    </tr>\n",
       "    <tr>\n",
       "      <th>4</th>\n",
       "      <td>r_LAX02LA074</td>\n",
       "      <td>unitOfDewPoint</td>\n",
       "      <td>degreeCelsius</td>\n",
       "    </tr>\n",
       "  </tbody>\n",
       "</table>\n",
       "</div>"
      ],
      "text/plain": [
       "        subject                                 relation           object\n",
       "0  r_FTW03LA001                                     type  Accident_Number\n",
       "1        N366KR  hasEmergencyLocatorTransmitterInstalled            false\n",
       "2  r_CHI04LA052                        unitOfTemperature    degreeCelsius\n",
       "3  r_LAX02LA036                             hasWindSpeed                4\n",
       "4  r_LAX02LA074                           unitOfDewPoint    degreeCelsius"
      ]
     },
     "execution_count": 43,
     "metadata": {},
     "output_type": "execute_result"
    }
   ],
   "source": [
    "df.head()"
   ]
  },
  {
   "cell_type": "code",
   "execution_count": 44,
   "metadata": {},
   "outputs": [],
   "source": [
    "def masked_subject(row):\n",
    "    return \"<extra_id_0> {} {}\".format(row[\"relation\"], row[\"object\"])\n",
    "def masked_object(row):\n",
    "    return \"{} {} <extra_id_0>\".format(row[\"subject\"], row[\"relation\"])"
   ]
  },
  {
   "cell_type": "code",
   "execution_count": 45,
   "metadata": {},
   "outputs": [],
   "source": [
    "def form_label(row):\n",
    "    return \"<extra_id_0> {}.\".format(row)\n",
    "    "
   ]
  },
  {
   "cell_type": "code",
   "execution_count": 46,
   "metadata": {},
   "outputs": [],
   "source": [
    "df[\"label\"] = np.where(df.index % 2, df[\"subject\"].map(form_label), df[\"object\"].map(form_label))\n"
   ]
  },
  {
   "cell_type": "code",
   "execution_count": 47,
   "metadata": {},
   "outputs": [
    {
     "data": {
      "text/html": [
       "<div>\n",
       "<style scoped>\n",
       "    .dataframe tbody tr th:only-of-type {\n",
       "        vertical-align: middle;\n",
       "    }\n",
       "\n",
       "    .dataframe tbody tr th {\n",
       "        vertical-align: top;\n",
       "    }\n",
       "\n",
       "    .dataframe thead th {\n",
       "        text-align: right;\n",
       "    }\n",
       "</style>\n",
       "<table border=\"1\" class=\"dataframe\">\n",
       "  <thead>\n",
       "    <tr style=\"text-align: right;\">\n",
       "      <th></th>\n",
       "      <th>subject</th>\n",
       "      <th>relation</th>\n",
       "      <th>object</th>\n",
       "      <th>label</th>\n",
       "    </tr>\n",
       "  </thead>\n",
       "  <tbody>\n",
       "    <tr>\n",
       "      <th>0</th>\n",
       "      <td>r_FTW03LA001</td>\n",
       "      <td>type</td>\n",
       "      <td>Accident_Number</td>\n",
       "      <td>&lt;extra_id_0&gt; Accident_Number.</td>\n",
       "    </tr>\n",
       "    <tr>\n",
       "      <th>1</th>\n",
       "      <td>N366KR</td>\n",
       "      <td>hasEmergencyLocatorTransmitterInstalled</td>\n",
       "      <td>false</td>\n",
       "      <td>&lt;extra_id_0&gt; N366KR.</td>\n",
       "    </tr>\n",
       "    <tr>\n",
       "      <th>2</th>\n",
       "      <td>r_CHI04LA052</td>\n",
       "      <td>unitOfTemperature</td>\n",
       "      <td>degreeCelsius</td>\n",
       "      <td>&lt;extra_id_0&gt; degreeCelsius.</td>\n",
       "    </tr>\n",
       "    <tr>\n",
       "      <th>3</th>\n",
       "      <td>r_LAX02LA036</td>\n",
       "      <td>hasWindSpeed</td>\n",
       "      <td>4</td>\n",
       "      <td>&lt;extra_id_0&gt; r_LAX02LA036.</td>\n",
       "    </tr>\n",
       "    <tr>\n",
       "      <th>4</th>\n",
       "      <td>r_LAX02LA074</td>\n",
       "      <td>unitOfDewPoint</td>\n",
       "      <td>degreeCelsius</td>\n",
       "      <td>&lt;extra_id_0&gt; degreeCelsius.</td>\n",
       "    </tr>\n",
       "  </tbody>\n",
       "</table>\n",
       "</div>"
      ],
      "text/plain": [
       "        subject                                 relation           object  \\\n",
       "0  r_FTW03LA001                                     type  Accident_Number   \n",
       "1        N366KR  hasEmergencyLocatorTransmitterInstalled            false   \n",
       "2  r_CHI04LA052                        unitOfTemperature    degreeCelsius   \n",
       "3  r_LAX02LA036                             hasWindSpeed                4   \n",
       "4  r_LAX02LA074                           unitOfDewPoint    degreeCelsius   \n",
       "\n",
       "                           label  \n",
       "0  <extra_id_0> Accident_Number.  \n",
       "1           <extra_id_0> N366KR.  \n",
       "2    <extra_id_0> degreeCelsius.  \n",
       "3     <extra_id_0> r_LAX02LA036.  \n",
       "4    <extra_id_0> degreeCelsius.  "
      ]
     },
     "execution_count": 47,
     "metadata": {},
     "output_type": "execute_result"
    }
   ],
   "source": [
    "df.head()"
   ]
  },
  {
   "cell_type": "code",
   "execution_count": 48,
   "metadata": {},
   "outputs": [],
   "source": [
    "df[\"input\"] = np.where(df.index % 2, df.apply(masked_subject, axis = 1),df.apply(masked_object, axis = 1))\n"
   ]
  },
  {
   "cell_type": "code",
   "execution_count": 49,
   "metadata": {},
   "outputs": [
    {
     "data": {
      "text/html": [
       "<div>\n",
       "<style scoped>\n",
       "    .dataframe tbody tr th:only-of-type {\n",
       "        vertical-align: middle;\n",
       "    }\n",
       "\n",
       "    .dataframe tbody tr th {\n",
       "        vertical-align: top;\n",
       "    }\n",
       "\n",
       "    .dataframe thead th {\n",
       "        text-align: right;\n",
       "    }\n",
       "</style>\n",
       "<table border=\"1\" class=\"dataframe\">\n",
       "  <thead>\n",
       "    <tr style=\"text-align: right;\">\n",
       "      <th></th>\n",
       "      <th>subject</th>\n",
       "      <th>relation</th>\n",
       "      <th>object</th>\n",
       "      <th>label</th>\n",
       "      <th>input</th>\n",
       "    </tr>\n",
       "  </thead>\n",
       "  <tbody>\n",
       "    <tr>\n",
       "      <th>0</th>\n",
       "      <td>r_FTW03LA001</td>\n",
       "      <td>type</td>\n",
       "      <td>Accident_Number</td>\n",
       "      <td>&lt;extra_id_0&gt; Accident_Number.</td>\n",
       "      <td>r_FTW03LA001 type &lt;extra_id_0&gt;</td>\n",
       "    </tr>\n",
       "    <tr>\n",
       "      <th>1</th>\n",
       "      <td>N366KR</td>\n",
       "      <td>hasEmergencyLocatorTransmitterInstalled</td>\n",
       "      <td>false</td>\n",
       "      <td>&lt;extra_id_0&gt; N366KR.</td>\n",
       "      <td>&lt;extra_id_0&gt; hasEmergencyLocatorTransmitterIns...</td>\n",
       "    </tr>\n",
       "    <tr>\n",
       "      <th>2</th>\n",
       "      <td>r_CHI04LA052</td>\n",
       "      <td>unitOfTemperature</td>\n",
       "      <td>degreeCelsius</td>\n",
       "      <td>&lt;extra_id_0&gt; degreeCelsius.</td>\n",
       "      <td>r_CHI04LA052 unitOfTemperature &lt;extra_id_0&gt;</td>\n",
       "    </tr>\n",
       "    <tr>\n",
       "      <th>3</th>\n",
       "      <td>r_LAX02LA036</td>\n",
       "      <td>hasWindSpeed</td>\n",
       "      <td>4</td>\n",
       "      <td>&lt;extra_id_0&gt; r_LAX02LA036.</td>\n",
       "      <td>&lt;extra_id_0&gt; hasWindSpeed 4</td>\n",
       "    </tr>\n",
       "    <tr>\n",
       "      <th>4</th>\n",
       "      <td>r_LAX02LA074</td>\n",
       "      <td>unitOfDewPoint</td>\n",
       "      <td>degreeCelsius</td>\n",
       "      <td>&lt;extra_id_0&gt; degreeCelsius.</td>\n",
       "      <td>r_LAX02LA074 unitOfDewPoint &lt;extra_id_0&gt;</td>\n",
       "    </tr>\n",
       "  </tbody>\n",
       "</table>\n",
       "</div>"
      ],
      "text/plain": [
       "        subject                                 relation           object  \\\n",
       "0  r_FTW03LA001                                     type  Accident_Number   \n",
       "1        N366KR  hasEmergencyLocatorTransmitterInstalled            false   \n",
       "2  r_CHI04LA052                        unitOfTemperature    degreeCelsius   \n",
       "3  r_LAX02LA036                             hasWindSpeed                4   \n",
       "4  r_LAX02LA074                           unitOfDewPoint    degreeCelsius   \n",
       "\n",
       "                           label  \\\n",
       "0  <extra_id_0> Accident_Number.   \n",
       "1           <extra_id_0> N366KR.   \n",
       "2    <extra_id_0> degreeCelsius.   \n",
       "3     <extra_id_0> r_LAX02LA036.   \n",
       "4    <extra_id_0> degreeCelsius.   \n",
       "\n",
       "                                               input  \n",
       "0                     r_FTW03LA001 type <extra_id_0>  \n",
       "1  <extra_id_0> hasEmergencyLocatorTransmitterIns...  \n",
       "2        r_CHI04LA052 unitOfTemperature <extra_id_0>  \n",
       "3                        <extra_id_0> hasWindSpeed 4  \n",
       "4           r_LAX02LA074 unitOfDewPoint <extra_id_0>  "
      ]
     },
     "execution_count": 49,
     "metadata": {},
     "output_type": "execute_result"
    }
   ],
   "source": [
    "df.head()"
   ]
  },
  {
   "cell_type": "code",
   "execution_count": 50,
   "metadata": {},
   "outputs": [
    {
     "data": {
      "text/plain": [
       "array(['type', 'hasEmergencyLocatorTransmitterInstalled',\n",
       "       'unitOfTemperature', 'hasWindSpeed', 'unitOfDewPoint',\n",
       "       'IsCausedBy', 'isCausedByEnvironmentIssue', 'hasPrecipitation',\n",
       "       'hasObservationFacility', 'hasRatedPower', 'unitOfVisibility',\n",
       "       'hasConditionsAtAccidentSite', 'hasOperator', 'hasPilot',\n",
       "       'unitOfDirectionFromAccidentSite', 'unitOfRatedPower',\n",
       "       'hasSecondPilotPresent', 'hasAircraftFire', 'unitOfElevation',\n",
       "       'hasAirworthinessCertificate', 'IsCausedBecause',\n",
       "       'hasAircraftExplosion', 'hasSerialNumber', 'hasTemperature',\n",
       "       'wasToxicologyPerformed', 'unitOfGusts', 'occurredAtCountry',\n",
       "       'hasSecondEvent', 'hasMedicalCertification', 'hasRegisteredOwner',\n",
       "       'hasLowestCloudCondition', 'unitOfDistanceFromAccidentSite',\n",
       "       'isCausedByPersonnelIssue', 'isCauseddueto-PersonnelIssue',\n",
       "       'hasTurbulenceSeverityForecast', 'hasFederalAviationRegulation',\n",
       "       'hasCausalAgent_FlightCrew', 'hasLowestCeiling', 'isAmateurBuilt',\n",
       "       'hasRunwayLength', 'subPropertyOf', 'hasFirstEvent',\n",
       "       'hasAircraftManufacturer', 'hasYearOfManufacture',\n",
       "       'hadLastFAAMedicalExam', 'hasEngine', 'hasDewPoint',\n",
       "       'unitOfCertifiedMaxGrossWeight', 'hasSeats', 'hasAirport',\n",
       "       'hasRunwayUsed', 'hasCrewInjury', 'hasAirspace',\n",
       "       'hasTurbulenceSeverityActual', 'IsCausedDueTo',\n",
       "       'unitOfWindDirection', 'hasRunwaySurfaceCondition',\n",
       "       'hasSeatOccupied', 'hasAirframeTotalTime', 'occurredAtCity',\n",
       "       'hasEmergencyLocatorTransmitter', 'occurredAtLongitude',\n",
       "       'unitOfRunwayWidth', 'hasAltimeterSetting', 'hasThirdEvent',\n",
       "       'hasTurbulenceActual', 'hasObscuration', 'hasRunwaySurfaceType',\n",
       "       'hasTurbulenceForecast', 'hasAirportName', 'hasRestraintUsed',\n",
       "       'unitOfRunwayLength', 'hasPassangerInjury', 'hasAge',\n",
       "       'hasOccupationalPilot', 'hasCertifiedMaxGrossWeight',\n",
       "       'hasAircraftDamage', 'hasRunwayWidth', 'hadLastFlightReview',\n",
       "       'hasDepartureTime', 'isCausedByAircraftIssue',\n",
       "       'hasAircraftCategory', 'hasDistanceFromAccidentSite',\n",
       "       'hasAirplaneRating', 'hasDirectionFromAccidentSite',\n",
       "       'hasTotalInjury', 'hasClearance', 'hasOtherAircraftRating',\n",
       "       'hasInstructorRating', 'hasLastInspection', 'hasLandingGear',\n",
       "       'hasVisibility', 'hasTimeSinceLastInspection',\n",
       "       'occurredAtLatitude', 'hasInstrumentRating', 'subClassOf',\n",
       "       'hasDefiningEvent', 'label', 'unitOfAirportElevation',\n",
       "       'hasCertificate', 'isCauseddueto-AircraftIssue',\n",
       "       'hasAircraftModel', 'unitOfAltimeterSetting',\n",
       "       'http://purl.org/dc/elements/1.1/description', 'unitOfWindSpeed',\n",
       "       'unitOfAge', 'hasVisibilityRVR', 'hasDateOfLastInspection',\n",
       "       'hasObservationTime', 'unitOfLongitude', 'hasEngineModel',\n",
       "       'hasElevation', 'hasAirportElevation', 'hasFlightPlanFiled',\n",
       "       'hasEmergencyLocatorTransmitterActivated', 'hasEngineManufacturer',\n",
       "       'hasInstrumentFlightRulesApproach', 'hasVisualFlightRulesApproach',\n",
       "       'unitOfLatitude', 'hasFourthEvent', 'hasDateTime',\n",
       "       'hasRegistrationNumber', 'comment', 'hasWindDirection',\n",
       "       'hasConditionOfLight', 'unitOfTimeSinceLastInspection',\n",
       "       'hasCausalAgent_GroundPersonnel', 'hasOperatingCertificatesHeld',\n",
       "       'domain', 'hasGusts', 'hasCausalAgent_OtherPersonsOnBoard',\n",
       "       'range', 'hasCausalAgent_Maintenance/Repair',\n",
       "       'hasCausalAgent_Manufacturer', 'isCauseddueto-EnvironmentalIssue',\n",
       "       'hasFifthEvent', 'http://purl.org/dc/elements/1.1/source',\n",
       "       'hasCausalAgent_AerodromePersonnel', 'hasCausalAgent_Other',\n",
       "       'first', 'hasCausalAgent_ATSPersonnel', 'defintion',\n",
       "       'hasSixthEvent', 'rest', 'hasCausalAgent_Operator',\n",
       "       'hasCausalAgent_Government_-_FAA', 'hasCausalAgent_Unknown',\n",
       "       'members', 'imports', 'seeAlso', 'disjointWith'], dtype=object)"
      ]
     },
     "execution_count": 50,
     "metadata": {},
     "output_type": "execute_result"
    }
   ],
   "source": [
    "df.relation.unique()"
   ]
  },
  {
   "cell_type": "code",
   "execution_count": 51,
   "metadata": {},
   "outputs": [
    {
     "data": {
      "text/plain": [
       "0                                           type\n",
       "1        hasEmergencyLocatorTransmitterInstalled\n",
       "2                              unitOfTemperature\n",
       "3                                   hasWindSpeed\n",
       "4                                 unitOfDewPoint\n",
       "                          ...                   \n",
       "96681                           hasRestraintUsed\n",
       "96682                                       type\n",
       "96683                                       type\n",
       "96684                    hasLowestCloudCondition\n",
       "96685                                       type\n",
       "Name: relation, Length: 96686, dtype: object"
      ]
     },
     "execution_count": 51,
     "metadata": {},
     "output_type": "execute_result"
    }
   ],
   "source": [
    "df[\"relation\"]"
   ]
  },
  {
   "cell_type": "code",
   "execution_count": 52,
   "metadata": {},
   "outputs": [],
   "source": [
    "to_rem = ['http://purl.org/dc/elements/1.1/source', 'http://purl.org/dc/elements/1.1/description', 'imports']\n",
    "df = df[~df.relation.isin(to_rem)]\n"
   ]
  },
  {
   "cell_type": "code",
   "execution_count": 53,
   "metadata": {},
   "outputs": [
    {
     "data": {
      "text/plain": [
       "(96625,\n",
       "         subject                                 relation           object  \\\n",
       " 0  r_FTW03LA001                                     type  Accident_Number   \n",
       " 1        N366KR  hasEmergencyLocatorTransmitterInstalled            false   \n",
       " 2  r_CHI04LA052                        unitOfTemperature    degreeCelsius   \n",
       " 3  r_LAX02LA036                             hasWindSpeed                4   \n",
       " 4  r_LAX02LA074                           unitOfDewPoint    degreeCelsius   \n",
       " \n",
       "                            label  \\\n",
       " 0  <extra_id_0> Accident_Number.   \n",
       " 1           <extra_id_0> N366KR.   \n",
       " 2    <extra_id_0> degreeCelsius.   \n",
       " 3     <extra_id_0> r_LAX02LA036.   \n",
       " 4    <extra_id_0> degreeCelsius.   \n",
       " \n",
       "                                                input  \n",
       " 0                     r_FTW03LA001 type <extra_id_0>  \n",
       " 1  <extra_id_0> hasEmergencyLocatorTransmitterIns...  \n",
       " 2        r_CHI04LA052 unitOfTemperature <extra_id_0>  \n",
       " 3                        <extra_id_0> hasWindSpeed 4  \n",
       " 4           r_LAX02LA074 unitOfDewPoint <extra_id_0>  ,\n",
       "        index       subject                                 relation  \\\n",
       " 0          0  r_FTW03LA001                                     type   \n",
       " 1          1        N366KR  hasEmergencyLocatorTransmitterInstalled   \n",
       " 2          2  r_CHI04LA052                        unitOfTemperature   \n",
       " 3          3  r_LAX02LA036                             hasWindSpeed   \n",
       " 4          4  r_LAX02LA074                           unitOfDewPoint   \n",
       " ...      ...           ...                                      ...   \n",
       " 96620  96681           002                         hasRestraintUsed   \n",
       " 96621  96682           154                                     type   \n",
       " 96622  96683                                                   type   \n",
       " 96623  96684  r_DEN02LA067                  hasLowestCloudCondition   \n",
       " 96624  96685            L)                                     type   \n",
       " \n",
       "                 object                          label  \\\n",
       " 0      Accident_Number  <extra_id_0> Accident_Number.   \n",
       " 1                false           <extra_id_0> N366KR.   \n",
       " 2        degreeCelsius    <extra_id_0> degreeCelsius.   \n",
       " 3                    4     <extra_id_0> r_LAX02LA036.   \n",
       " 4        degreeCelsius    <extra_id_0> degreeCelsius.   \n",
       " ...                ...                            ...   \n",
       " 96620         Seatbelt              <extra_id_0> 002.   \n",
       " 96621  NamedIndividual  <extra_id_0> NamedIndividual.   \n",
       " 96622  NamedIndividual                 <extra_id_0> .   \n",
       " 96623            Clear            <extra_id_0> Clear.   \n",
       " 96624  NamedIndividual               <extra_id_0> L).   \n",
       " \n",
       "                                                    input  \n",
       " 0                         r_FTW03LA001 type <extra_id_0>  \n",
       " 1      <extra_id_0> hasEmergencyLocatorTransmitterIns...  \n",
       " 2            r_CHI04LA052 unitOfTemperature <extra_id_0>  \n",
       " 3                            <extra_id_0> hasWindSpeed 4  \n",
       " 4               r_LAX02LA074 unitOfDewPoint <extra_id_0>  \n",
       " ...                                                  ...  \n",
       " 96620             <extra_id_0> hasRestraintUsed Seatbelt  \n",
       " 96621                              154 type <extra_id_0>  \n",
       " 96622                  <extra_id_0> type NamedIndividual  \n",
       " 96623  r_DEN02LA067 hasLowestCloudCondition <extra_id_0>  \n",
       " 96624                  <extra_id_0> type NamedIndividual  \n",
       " \n",
       " [96625 rows x 6 columns])"
      ]
     },
     "execution_count": 53,
     "metadata": {},
     "output_type": "execute_result"
    }
   ],
   "source": [
    "len(df), df.head(), df.reset_index()\n"
   ]
  },
  {
   "cell_type": "code",
   "execution_count": 54,
   "metadata": {},
   "outputs": [
    {
     "data": {
      "text/html": [
       "<div>\n",
       "<style scoped>\n",
       "    .dataframe tbody tr th:only-of-type {\n",
       "        vertical-align: middle;\n",
       "    }\n",
       "\n",
       "    .dataframe tbody tr th {\n",
       "        vertical-align: top;\n",
       "    }\n",
       "\n",
       "    .dataframe thead th {\n",
       "        text-align: right;\n",
       "    }\n",
       "</style>\n",
       "<table border=\"1\" class=\"dataframe\">\n",
       "  <thead>\n",
       "    <tr style=\"text-align: right;\">\n",
       "      <th></th>\n",
       "      <th>subject</th>\n",
       "      <th>relation</th>\n",
       "      <th>object</th>\n",
       "      <th>label</th>\n",
       "      <th>input</th>\n",
       "    </tr>\n",
       "  </thead>\n",
       "  <tbody>\n",
       "    <tr>\n",
       "      <th>0</th>\n",
       "      <td>r_FTW03LA001</td>\n",
       "      <td>type</td>\n",
       "      <td>Accident_Number</td>\n",
       "      <td>&lt;extra_id_0&gt; Accident_Number.</td>\n",
       "      <td>r_FTW03LA001 type &lt;extra_id_0&gt;</td>\n",
       "    </tr>\n",
       "    <tr>\n",
       "      <th>1</th>\n",
       "      <td>N366KR</td>\n",
       "      <td>hasEmergencyLocatorTransmitterInstalled</td>\n",
       "      <td>false</td>\n",
       "      <td>&lt;extra_id_0&gt; N366KR.</td>\n",
       "      <td>&lt;extra_id_0&gt; hasEmergencyLocatorTransmitterIns...</td>\n",
       "    </tr>\n",
       "    <tr>\n",
       "      <th>2</th>\n",
       "      <td>r_CHI04LA052</td>\n",
       "      <td>unitOfTemperature</td>\n",
       "      <td>degreeCelsius</td>\n",
       "      <td>&lt;extra_id_0&gt; degreeCelsius.</td>\n",
       "      <td>r_CHI04LA052 unitOfTemperature &lt;extra_id_0&gt;</td>\n",
       "    </tr>\n",
       "    <tr>\n",
       "      <th>3</th>\n",
       "      <td>r_LAX02LA036</td>\n",
       "      <td>hasWindSpeed</td>\n",
       "      <td>4</td>\n",
       "      <td>&lt;extra_id_0&gt; r_LAX02LA036.</td>\n",
       "      <td>&lt;extra_id_0&gt; hasWindSpeed 4</td>\n",
       "    </tr>\n",
       "    <tr>\n",
       "      <th>4</th>\n",
       "      <td>r_LAX02LA074</td>\n",
       "      <td>unitOfDewPoint</td>\n",
       "      <td>degreeCelsius</td>\n",
       "      <td>&lt;extra_id_0&gt; degreeCelsius.</td>\n",
       "      <td>r_LAX02LA074 unitOfDewPoint &lt;extra_id_0&gt;</td>\n",
       "    </tr>\n",
       "  </tbody>\n",
       "</table>\n",
       "</div>"
      ],
      "text/plain": [
       "        subject                                 relation           object  \\\n",
       "0  r_FTW03LA001                                     type  Accident_Number   \n",
       "1        N366KR  hasEmergencyLocatorTransmitterInstalled            false   \n",
       "2  r_CHI04LA052                        unitOfTemperature    degreeCelsius   \n",
       "3  r_LAX02LA036                             hasWindSpeed                4   \n",
       "4  r_LAX02LA074                           unitOfDewPoint    degreeCelsius   \n",
       "\n",
       "                           label  \\\n",
       "0  <extra_id_0> Accident_Number.   \n",
       "1           <extra_id_0> N366KR.   \n",
       "2    <extra_id_0> degreeCelsius.   \n",
       "3     <extra_id_0> r_LAX02LA036.   \n",
       "4    <extra_id_0> degreeCelsius.   \n",
       "\n",
       "                                               input  \n",
       "0                     r_FTW03LA001 type <extra_id_0>  \n",
       "1  <extra_id_0> hasEmergencyLocatorTransmitterIns...  \n",
       "2        r_CHI04LA052 unitOfTemperature <extra_id_0>  \n",
       "3                        <extra_id_0> hasWindSpeed 4  \n",
       "4           r_LAX02LA074 unitOfDewPoint <extra_id_0>  "
      ]
     },
     "execution_count": 54,
     "metadata": {},
     "output_type": "execute_result"
    }
   ],
   "source": [
    "df.head()"
   ]
  },
  {
   "cell_type": "code",
   "execution_count": 55,
   "metadata": {},
   "outputs": [
    {
     "data": {
      "text/plain": [
       "96625"
      ]
     },
     "execution_count": 55,
     "metadata": {},
     "output_type": "execute_result"
    }
   ],
   "source": [
    "len(df)"
   ]
  },
  {
   "cell_type": "code",
   "execution_count": 56,
   "metadata": {},
   "outputs": [],
   "source": [
    "df =  df.sort_values(by=['subject', 'object'], ascending=True).reset_index(drop = True)\n"
   ]
  },
  {
   "cell_type": "code",
   "execution_count": 59,
   "metadata": {},
   "outputs": [
    {
     "ename": "AttributeError",
     "evalue": "Can't get attribute '_unpickle_block' on <module 'pandas._libs.internals' from '/opt/conda/lib/python3.8/site-packages/pandas/_libs/internals.cpython-38-x86_64-linux-gnu.so'>",
     "output_type": "error",
     "traceback": [
      "\u001b[0;31m---------------------------------------------------------------------------\u001b[0m",
      "\u001b[0;31mAttributeError\u001b[0m                            Traceback (most recent call last)",
      "\u001b[0;32m<ipython-input-59-65d6248550cd>\u001b[0m in \u001b[0;36m<module>\u001b[0;34m\u001b[0m\n\u001b[1;32m      1\u001b[0m \u001b[0;32mimport\u001b[0m \u001b[0mpickle\u001b[0m\u001b[0;34m\u001b[0m\u001b[0;34m\u001b[0m\u001b[0m\n\u001b[1;32m      2\u001b[0m \u001b[0mfile\u001b[0m \u001b[0;34m=\u001b[0m \u001b[0mopen\u001b[0m\u001b[0;34m(\u001b[0m\u001b[0;34m\"c4_masked.pickle\"\u001b[0m\u001b[0;34m,\u001b[0m\u001b[0;34m'rb'\u001b[0m\u001b[0;34m)\u001b[0m\u001b[0;34m\u001b[0m\u001b[0;34m\u001b[0m\u001b[0m\n\u001b[0;32m----> 3\u001b[0;31m \u001b[0mc4df\u001b[0m \u001b[0;34m=\u001b[0m \u001b[0mpickle\u001b[0m\u001b[0;34m.\u001b[0m\u001b[0mload\u001b[0m\u001b[0;34m(\u001b[0m\u001b[0mfile\u001b[0m\u001b[0;34m)\u001b[0m\u001b[0;34m\u001b[0m\u001b[0;34m\u001b[0m\u001b[0m\n\u001b[0m\u001b[1;32m      4\u001b[0m \u001b[0mfile\u001b[0m\u001b[0;34m.\u001b[0m\u001b[0mclose\u001b[0m\u001b[0;34m(\u001b[0m\u001b[0;34m)\u001b[0m\u001b[0;34m\u001b[0m\u001b[0;34m\u001b[0m\u001b[0m\n",
      "\u001b[0;31mAttributeError\u001b[0m: Can't get attribute '_unpickle_block' on <module 'pandas._libs.internals' from '/opt/conda/lib/python3.8/site-packages/pandas/_libs/internals.cpython-38-x86_64-linux-gnu.so'>"
     ]
    }
   ],
   "source": [
    "import pickle\n",
    "file = open(\"c4_masked.pickle\",'rb')\n",
    "c4df = pickle.load(file)\n",
    "file.close()\n"
   ]
  },
  {
   "cell_type": "code",
   "execution_count": 29,
   "metadata": {},
   "outputs": [
    {
     "ename": "NameError",
     "evalue": "name 'c4df' is not defined",
     "output_type": "error",
     "traceback": [
      "\u001b[0;31m---------------------------------------------------------------------------\u001b[0m",
      "\u001b[0;31mNameError\u001b[0m                                 Traceback (most recent call last)",
      "\u001b[0;32m<ipython-input-29-eee9442f7f00>\u001b[0m in \u001b[0;36m<module>\u001b[0;34m\u001b[0m\n\u001b[0;32m----> 1\u001b[0;31m \u001b[0md1\u001b[0m \u001b[0;34m=\u001b[0m \u001b[0mc4df\u001b[0m\u001b[0;34m[\u001b[0m\u001b[0;34m[\u001b[0m\u001b[0;34m'input'\u001b[0m\u001b[0;34m,\u001b[0m \u001b[0;34m'label'\u001b[0m\u001b[0;34m]\u001b[0m\u001b[0;34m]\u001b[0m\u001b[0;34m.\u001b[0m\u001b[0msample\u001b[0m\u001b[0;34m(\u001b[0m\u001b[0mfrac\u001b[0m\u001b[0;34m=\u001b[0m\u001b[0;36m1\u001b[0m\u001b[0;34m)\u001b[0m\u001b[0;34m.\u001b[0m\u001b[0mreset_index\u001b[0m\u001b[0;34m(\u001b[0m\u001b[0mdrop\u001b[0m \u001b[0;34m=\u001b[0m \u001b[0;32mTrue\u001b[0m\u001b[0;34m)\u001b[0m\u001b[0;34m.\u001b[0m\u001b[0miloc\u001b[0m\u001b[0;34m[\u001b[0m\u001b[0;34m:\u001b[0m\u001b[0mlen\u001b[0m\u001b[0;34m(\u001b[0m\u001b[0mdf\u001b[0m\u001b[0;34m)\u001b[0m\u001b[0;34m]\u001b[0m\u001b[0;34m.\u001b[0m\u001b[0mcopy\u001b[0m\u001b[0;34m(\u001b[0m\u001b[0;34m)\u001b[0m\u001b[0;34m\u001b[0m\u001b[0;34m\u001b[0m\u001b[0m\n\u001b[0m\u001b[1;32m      2\u001b[0m \u001b[0md2\u001b[0m \u001b[0;34m=\u001b[0m \u001b[0mdf\u001b[0m\u001b[0;34m[\u001b[0m\u001b[0;34m[\u001b[0m\u001b[0;34m'input'\u001b[0m\u001b[0;34m,\u001b[0m \u001b[0;34m'label'\u001b[0m\u001b[0;34m]\u001b[0m\u001b[0;34m]\u001b[0m\u001b[0;34m.\u001b[0m\u001b[0mcopy\u001b[0m\u001b[0;34m(\u001b[0m\u001b[0;34m)\u001b[0m\u001b[0;34m\u001b[0m\u001b[0;34m\u001b[0m\u001b[0m\n",
      "\u001b[0;31mNameError\u001b[0m: name 'c4df' is not defined"
     ]
    }
   ],
   "source": [
    "d1 = c4df[['input', 'label']].sample(frac=1).reset_index(drop = True).iloc[:len(df)].copy()\n",
    "d2 = df[['input', 'label']].copy()\n"
   ]
  },
  {
   "cell_type": "code",
   "execution_count": 30,
   "metadata": {},
   "outputs": [
    {
     "ename": "NameError",
     "evalue": "name 'd1' is not defined",
     "output_type": "error",
     "traceback": [
      "\u001b[0;31m---------------------------------------------------------------------------\u001b[0m",
      "\u001b[0;31mNameError\u001b[0m                                 Traceback (most recent call last)",
      "\u001b[0;32m<ipython-input-30-2742e05f697c>\u001b[0m in \u001b[0;36m<module>\u001b[0;34m\u001b[0m\n\u001b[0;32m----> 1\u001b[0;31m \u001b[0md3\u001b[0m \u001b[0;34m=\u001b[0m \u001b[0mpd\u001b[0m\u001b[0;34m.\u001b[0m\u001b[0mconcat\u001b[0m\u001b[0;34m(\u001b[0m\u001b[0;34m[\u001b[0m\u001b[0md1\u001b[0m\u001b[0;34m,\u001b[0m\u001b[0md2\u001b[0m\u001b[0;34m]\u001b[0m\u001b[0;34m)\u001b[0m\u001b[0;34m\u001b[0m\u001b[0;34m\u001b[0m\u001b[0m\n\u001b[0m\u001b[1;32m      2\u001b[0m \u001b[0md3\u001b[0m \u001b[0;34m=\u001b[0m \u001b[0md3\u001b[0m\u001b[0;34m.\u001b[0m\u001b[0msample\u001b[0m\u001b[0;34m(\u001b[0m\u001b[0mfrac\u001b[0m\u001b[0;34m=\u001b[0m\u001b[0;36m1\u001b[0m\u001b[0;34m)\u001b[0m\u001b[0;34m.\u001b[0m\u001b[0mreset_index\u001b[0m\u001b[0;34m(\u001b[0m\u001b[0mdrop\u001b[0m \u001b[0;34m=\u001b[0m \u001b[0;32mTrue\u001b[0m\u001b[0;34m)\u001b[0m\u001b[0;34m\u001b[0m\u001b[0;34m\u001b[0m\u001b[0m\n",
      "\u001b[0;31mNameError\u001b[0m: name 'd1' is not defined"
     ]
    }
   ],
   "source": [
    "d3 = pd.concat([d1,d2])\n",
    "d3 = d3.sample(frac=1).reset_index(drop = True)\n"
   ]
  },
  {
   "cell_type": "code",
   "execution_count": 27,
   "metadata": {},
   "outputs": [
    {
     "data": {
      "text/plain": [
       "(96625, 96625, 193250)"
      ]
     },
     "execution_count": 27,
     "metadata": {},
     "output_type": "execute_result"
    }
   ],
   "source": [
    "len(d1), len(d2), len(d3)"
   ]
  },
  {
   "cell_type": "code",
   "execution_count": 28,
   "metadata": {},
   "outputs": [
    {
     "data": {
      "text/html": [
       "<div>\n",
       "<style scoped>\n",
       "    .dataframe tbody tr th:only-of-type {\n",
       "        vertical-align: middle;\n",
       "    }\n",
       "\n",
       "    .dataframe tbody tr th {\n",
       "        vertical-align: top;\n",
       "    }\n",
       "\n",
       "    .dataframe thead th {\n",
       "        text-align: right;\n",
       "    }\n",
       "</style>\n",
       "<table border=\"1\" class=\"dataframe\">\n",
       "  <thead>\n",
       "    <tr style=\"text-align: right;\">\n",
       "      <th></th>\n",
       "      <th>input</th>\n",
       "      <th>label</th>\n",
       "    </tr>\n",
       "  </thead>\n",
       "  <tbody>\n",
       "    <tr>\n",
       "      <th>0</th>\n",
       "      <td>Back by popular demand, see \"The Closest thing...</td>\n",
       "      <td>&lt;extra_id_0&gt; Milton Theatre.</td>\n",
       "    </tr>\n",
       "    <tr>\n",
       "      <th>1</th>\n",
       "      <td>More information on hiking in and around &lt;extr...</td>\n",
       "      <td>&lt;extra_id_0&gt; Vienna.</td>\n",
       "    </tr>\n",
       "    <tr>\n",
       "      <th>2</th>\n",
       "      <td>In the past, &lt;extra_id_0&gt; tourism focused on t...</td>\n",
       "      <td>&lt;extra_id_0&gt; Beijing.</td>\n",
       "    </tr>\n",
       "    <tr>\n",
       "      <th>3</th>\n",
       "      <td>This site is for managing the &lt;extra_id_0&gt; Res...</td>\n",
       "      <td>&lt;extra_id_0&gt; “.</td>\n",
       "    </tr>\n",
       "    <tr>\n",
       "      <th>4</th>\n",
       "      <td>The district court declined to grant a motion ...</td>\n",
       "      <td>&lt;extra_id_0&gt; Oppenheimer.</td>\n",
       "    </tr>\n",
       "  </tbody>\n",
       "</table>\n",
       "</div>"
      ],
      "text/plain": [
       "                                               input  \\\n",
       "0  Back by popular demand, see \"The Closest thing...   \n",
       "1  More information on hiking in and around <extr...   \n",
       "2  In the past, <extra_id_0> tourism focused on t...   \n",
       "3  This site is for managing the <extra_id_0> Res...   \n",
       "4  The district court declined to grant a motion ...   \n",
       "\n",
       "                          label  \n",
       "0  <extra_id_0> Milton Theatre.  \n",
       "1          <extra_id_0> Vienna.  \n",
       "2         <extra_id_0> Beijing.  \n",
       "3               <extra_id_0> “.  \n",
       "4     <extra_id_0> Oppenheimer.  "
      ]
     },
     "execution_count": 28,
     "metadata": {},
     "output_type": "execute_result"
    }
   ],
   "source": [
    "d1.head()"
   ]
  },
  {
   "cell_type": "code",
   "execution_count": 29,
   "metadata": {},
   "outputs": [
    {
     "data": {
      "text/html": [
       "<div>\n",
       "<style scoped>\n",
       "    .dataframe tbody tr th:only-of-type {\n",
       "        vertical-align: middle;\n",
       "    }\n",
       "\n",
       "    .dataframe tbody tr th {\n",
       "        vertical-align: top;\n",
       "    }\n",
       "\n",
       "    .dataframe thead th {\n",
       "        text-align: right;\n",
       "    }\n",
       "</style>\n",
       "<table border=\"1\" class=\"dataframe\">\n",
       "  <thead>\n",
       "    <tr style=\"text-align: right;\">\n",
       "      <th></th>\n",
       "      <th>input</th>\n",
       "      <th>label</th>\n",
       "    </tr>\n",
       "  </thead>\n",
       "  <tbody>\n",
       "    <tr>\n",
       "      <th>0</th>\n",
       "      <td>&lt;extra_id_0&gt; comment</td>\n",
       "      <td>&lt;extra_id_0&gt; .</td>\n",
       "    </tr>\n",
       "    <tr>\n",
       "      <th>1</th>\n",
       "      <td>&lt;extra_id_0&gt; defintion A gust or wind gust is ...</td>\n",
       "      <td>&lt;extra_id_0&gt; .</td>\n",
       "    </tr>\n",
       "    <tr>\n",
       "      <th>2</th>\n",
       "      <td>&lt;extra_id_0&gt; IsCausedBecause ABRUPT</td>\n",
       "      <td>&lt;extra_id_0&gt; .</td>\n",
       "    </tr>\n",
       "    <tr>\n",
       "      <th>3</th>\n",
       "      <td>IsCausedBecause &lt;extra_id_0&gt;</td>\n",
       "      <td>&lt;extra_id_0&gt; ABRUPT.</td>\n",
       "    </tr>\n",
       "    <tr>\n",
       "      <th>4</th>\n",
       "      <td>&lt;extra_id_0&gt; IsCausedBecause ABRUPT</td>\n",
       "      <td>&lt;extra_id_0&gt; .</td>\n",
       "    </tr>\n",
       "  </tbody>\n",
       "</table>\n",
       "</div>"
      ],
      "text/plain": [
       "                                               input                 label\n",
       "0                              <extra_id_0> comment         <extra_id_0> .\n",
       "1  <extra_id_0> defintion A gust or wind gust is ...        <extra_id_0> .\n",
       "2                <extra_id_0> IsCausedBecause ABRUPT        <extra_id_0> .\n",
       "3                       IsCausedBecause <extra_id_0>  <extra_id_0> ABRUPT.\n",
       "4                <extra_id_0> IsCausedBecause ABRUPT        <extra_id_0> ."
      ]
     },
     "execution_count": 29,
     "metadata": {},
     "output_type": "execute_result"
    }
   ],
   "source": [
    "d2.head()"
   ]
  },
  {
   "cell_type": "code",
   "execution_count": 30,
   "metadata": {},
   "outputs": [
    {
     "data": {
      "text/html": [
       "<div>\n",
       "<style scoped>\n",
       "    .dataframe tbody tr th:only-of-type {\n",
       "        vertical-align: middle;\n",
       "    }\n",
       "\n",
       "    .dataframe tbody tr th {\n",
       "        vertical-align: top;\n",
       "    }\n",
       "\n",
       "    .dataframe thead th {\n",
       "        text-align: right;\n",
       "    }\n",
       "</style>\n",
       "<table border=\"1\" class=\"dataframe\">\n",
       "  <thead>\n",
       "    <tr style=\"text-align: right;\">\n",
       "      <th></th>\n",
       "      <th>input</th>\n",
       "      <th>label</th>\n",
       "    </tr>\n",
       "  </thead>\n",
       "  <tbody>\n",
       "    <tr>\n",
       "      <th>0</th>\n",
       "      <td>N515KH hasEmergencyLocatorTransmitterInstalled...</td>\n",
       "      <td>&lt;extra_id_0&gt; false.</td>\n",
       "    </tr>\n",
       "    <tr>\n",
       "      <th>1</th>\n",
       "      <td>r_MIA05LA036 occurredAtLatitude &lt;extra_id_0&gt;</td>\n",
       "      <td>&lt;extra_id_0&gt; 30.6375.</td>\n",
       "    </tr>\n",
       "    <tr>\n",
       "      <th>2</th>\n",
       "      <td>Last minute prep for &lt;extra_id_0&gt;.</td>\n",
       "      <td>&lt;extra_id_0&gt; Winter Storm Jonas.</td>\n",
       "    </tr>\n",
       "    <tr>\n",
       "      <th>3</th>\n",
       "      <td>&lt;extra_id_0&gt; was born August 7, 1958, to paren...</td>\n",
       "      <td>&lt;extra_id_0&gt; Danny Scott Easterling.</td>\n",
       "    </tr>\n",
       "    <tr>\n",
       "      <th>4</th>\n",
       "      <td>r_DEN06MA119 IsCausedBy &lt;extra_id_0&gt;</td>\n",
       "      <td>&lt;extra_id_0&gt; WINGSPAR.</td>\n",
       "    </tr>\n",
       "  </tbody>\n",
       "</table>\n",
       "</div>"
      ],
      "text/plain": [
       "                                               input  \\\n",
       "0  N515KH hasEmergencyLocatorTransmitterInstalled...   \n",
       "1       r_MIA05LA036 occurredAtLatitude <extra_id_0>   \n",
       "2                 Last minute prep for <extra_id_0>.   \n",
       "3  <extra_id_0> was born August 7, 1958, to paren...   \n",
       "4               r_DEN06MA119 IsCausedBy <extra_id_0>   \n",
       "\n",
       "                                  label  \n",
       "0                   <extra_id_0> false.  \n",
       "1                 <extra_id_0> 30.6375.  \n",
       "2      <extra_id_0> Winter Storm Jonas.  \n",
       "3  <extra_id_0> Danny Scott Easterling.  \n",
       "4                <extra_id_0> WINGSPAR.  "
      ]
     },
     "execution_count": 30,
     "metadata": {},
     "output_type": "execute_result"
    }
   ],
   "source": [
    "d3.head()"
   ]
  },
  {
   "cell_type": "code",
   "execution_count": 31,
   "metadata": {},
   "outputs": [],
   "source": [
    "train_data = d3.copy()"
   ]
  },
  {
   "cell_type": "code",
   "execution_count": 32,
   "metadata": {},
   "outputs": [
    {
     "name": "stderr",
     "output_type": "stream",
     "text": [
      "/opt/conda/lib/python3.8/site-packages/transformers/models/t5/tokenization_t5.py:164: FutureWarning: This tokenizer was incorrectly instantiated with a model max length of 512 which will be corrected in Transformers v5.\n",
      "For now, this behavior is kept to avoid breaking backwards compatibility when padding/encoding with `truncation is True`.\n",
      "- Be aware that you SHOULD NOT rely on t5-large automatically truncating your input to 512 when padding/encoding.\n",
      "- If you want to encode/pad to sequences longer than 512 you can either instantiate this tokenizer with `model_max_length` or pass `max_length` when encoding/padding.\n",
      "- To avoid this warning, please instantiate this tokenizer with `model_max_length` set to your preferred value.\n",
      "  warnings.warn(\n"
     ]
    }
   ],
   "source": [
    "tokenizer = T5Tokenizer.from_pretrained(\"t5-large\")\n",
    "model = T5ForConditionalGeneration.from_pretrained(\"t5-large\")\n",
    "# model = T5ForConditionalGeneration.from_pretrained(\"/workspace/tanu/BTP-2/exp/knowledge infusion/trained models/KGinfusedLM/6\")\n",
    "# config = T5Config(dropout_rate  = 0.1)  # default value only, do we need to set it explicitly\n",
    "# model = T5ForConditionalGeneration.config(config).from_pretrained(\"t5-large\")\n",
    "\n"
   ]
  },
  {
   "cell_type": "code",
   "execution_count": 33,
   "metadata": {},
   "outputs": [],
   "source": [
    "def tokenize(text):\n",
    "    return tokenizer(text, return_tensors=\"pt\",  padding='longest', truncation=True )\n",
    "def tokenize_target(text):\n",
    "    return tokenizer(text, return_tensors=\"pt\",   padding=\"longest\",  truncation=True).input_ids"
   ]
  },
  {
   "cell_type": "code",
   "execution_count": 34,
   "metadata": {},
   "outputs": [],
   "source": [
    "optimizer = Adafactor(model.parameters(), lr=1e-3, relative_step = False)\n",
    "# parameters as specified in the paper\n",
    "# num_epochs = 380\n",
    "# batch_size = 1024\n",
    "num_epochs = 25\n",
    "batch_size = 16\n",
    "num_training_steps = num_epochs * (train_data.shape[0] // batch_size )\n"
   ]
  },
  {
   "cell_type": "code",
   "execution_count": 35,
   "metadata": {},
   "outputs": [],
   "source": [
    "import os\n",
    "os.environ[\"CUDA_DEVICE_ORDER\"]=\"PCI_BUS_ID\"\n",
    "os.environ[\"CUDA_VISIBLE_DEVICES\"]=\"1\"\n"
   ]
  },
  {
   "cell_type": "code",
   "execution_count": 36,
   "metadata": {},
   "outputs": [],
   "source": [
    "# model = torch.nn.DataParallel(model, device_ids=[0, 1])\n",
    "# device = torch.device(\"cuda:1\") if torch.cuda.is_available() else torch.device(\"cpu\")\n",
    "# device"
   ]
  },
  {
   "cell_type": "code",
   "execution_count": 37,
   "metadata": {},
   "outputs": [
    {
     "data": {
      "text/plain": [
       "device(type='cuda')"
      ]
     },
     "execution_count": 37,
     "metadata": {},
     "output_type": "execute_result"
    }
   ],
   "source": [
    "device = torch.device(\"cuda\") if torch.cuda.is_available() else torch.device(\"cpu\")\n",
    "model.to(device)\n",
    "device"
   ]
  },
  {
   "cell_type": "code",
   "execution_count": 38,
   "metadata": {},
   "outputs": [
    {
     "data": {
      "text/html": [
       "<div>\n",
       "<style scoped>\n",
       "    .dataframe tbody tr th:only-of-type {\n",
       "        vertical-align: middle;\n",
       "    }\n",
       "\n",
       "    .dataframe tbody tr th {\n",
       "        vertical-align: top;\n",
       "    }\n",
       "\n",
       "    .dataframe thead th {\n",
       "        text-align: right;\n",
       "    }\n",
       "</style>\n",
       "<table border=\"1\" class=\"dataframe\">\n",
       "  <thead>\n",
       "    <tr style=\"text-align: right;\">\n",
       "      <th></th>\n",
       "      <th>input</th>\n",
       "      <th>label</th>\n",
       "    </tr>\n",
       "  </thead>\n",
       "  <tbody>\n",
       "    <tr>\n",
       "      <th>0</th>\n",
       "      <td>N515KH hasEmergencyLocatorTransmitterInstalled...</td>\n",
       "      <td>&lt;extra_id_0&gt; false.</td>\n",
       "    </tr>\n",
       "    <tr>\n",
       "      <th>1</th>\n",
       "      <td>r_MIA05LA036 occurredAtLatitude &lt;extra_id_0&gt;</td>\n",
       "      <td>&lt;extra_id_0&gt; 30.6375.</td>\n",
       "    </tr>\n",
       "    <tr>\n",
       "      <th>2</th>\n",
       "      <td>Last minute prep for &lt;extra_id_0&gt;.</td>\n",
       "      <td>&lt;extra_id_0&gt; Winter Storm Jonas.</td>\n",
       "    </tr>\n",
       "    <tr>\n",
       "      <th>3</th>\n",
       "      <td>&lt;extra_id_0&gt; was born August 7, 1958, to paren...</td>\n",
       "      <td>&lt;extra_id_0&gt; Danny Scott Easterling.</td>\n",
       "    </tr>\n",
       "    <tr>\n",
       "      <th>4</th>\n",
       "      <td>r_DEN06MA119 IsCausedBy &lt;extra_id_0&gt;</td>\n",
       "      <td>&lt;extra_id_0&gt; WINGSPAR.</td>\n",
       "    </tr>\n",
       "  </tbody>\n",
       "</table>\n",
       "</div>"
      ],
      "text/plain": [
       "                                               input  \\\n",
       "0  N515KH hasEmergencyLocatorTransmitterInstalled...   \n",
       "1       r_MIA05LA036 occurredAtLatitude <extra_id_0>   \n",
       "2                 Last minute prep for <extra_id_0>.   \n",
       "3  <extra_id_0> was born August 7, 1958, to paren...   \n",
       "4               r_DEN06MA119 IsCausedBy <extra_id_0>   \n",
       "\n",
       "                                  label  \n",
       "0                   <extra_id_0> false.  \n",
       "1                 <extra_id_0> 30.6375.  \n",
       "2      <extra_id_0> Winter Storm Jonas.  \n",
       "3  <extra_id_0> Danny Scott Easterling.  \n",
       "4                <extra_id_0> WINGSPAR.  "
      ]
     },
     "execution_count": 38,
     "metadata": {},
     "output_type": "execute_result"
    }
   ],
   "source": [
    "train_data.head()"
   ]
  },
  {
   "cell_type": "code",
   "execution_count": 39,
   "metadata": {},
   "outputs": [
    {
     "data": {
      "text/plain": [
       "193250"
      ]
     },
     "execution_count": 39,
     "metadata": {},
     "output_type": "execute_result"
    }
   ],
   "source": [
    "len(train_data)"
   ]
  },
  {
   "cell_type": "code",
   "execution_count": 40,
   "metadata": {},
   "outputs": [],
   "source": [
    "def run_data(model, data, batch_size, optimizer, tokenizer, device, eval_mode):\n",
    "    iters = int(np.ceil(data.shape[0] / batch_size))\n",
    "    avg_loss = 0\n",
    "    step = 0\n",
    "    p_bar = tqdm(total=iters, position=0, leave=True, desc='Running through data')\n",
    "    for row_idx in range(0, data.shape[0], batch_size):\n",
    "        upper_idx = min(row_idx + batch_size, data.shape[0]) -1\n",
    "        \n",
    "        labels = data.loc[row_idx : upper_idx]['label'].tolist()\n",
    "        inputs = data.loc[row_idx : upper_idx]['input'].tolist()\n",
    "        tokenized_labels = tokenize_target(labels)\n",
    "        tokenized_input = tokenize(inputs)\n",
    "\n",
    "        input_ids = tokenized_input[\"input_ids\"].to(device)\n",
    "        attention_mask = tokenized_input[\"attention_mask\"].to(device)\n",
    "        labels = tokenized_labels.to(device)\n",
    "        labels[labels == tokenizer.pad_token_id] = -100\n",
    "        loss = model(input_ids= input_ids, attention_mask= attention_mask,labels= labels).loss\n",
    "        loss.backward()\n",
    "        optimizer.step()\n",
    "        optimizer.zero_grad()\n",
    "        loss_item = loss.detach().clone().item()\n",
    "        avg_loss = (avg_loss * step + loss_item) / (step + 1)\n",
    "\n",
    "        p_bar.set_postfix(avg_loss=avg_loss)\n",
    "        p_bar.update(1)\n",
    "        step += 1\n",
    "\n",
    "    p_bar.close()\n",
    "    return model, optimizer, avg_loss"
   ]
  },
  {
   "cell_type": "code",
   "execution_count": 41,
   "metadata": {},
   "outputs": [],
   "source": [
    "torch.cuda.empty_cache()\n"
   ]
  },
  {
   "cell_type": "code",
   "execution_count": 42,
   "metadata": {},
   "outputs": [],
   "source": [
    "to_save_epochs = [1,2,5,10,15,20,25]\n",
    "# to_save_epochs = [0,1,4,9,14,19,24]"
   ]
  },
  {
   "cell_type": "code",
   "execution_count": null,
   "metadata": {},
   "outputs": [
    {
     "name": "stderr",
     "output_type": "stream",
     "text": [
      "Running through data:  26%|▎| 3082/12079 [14:35<43:44,  3.43it/s, avg_loss=1.45]"
     ]
    }
   ],
   "source": [
    "train_losses = []     \n",
    "for epoch in range(0,num_epochs):\n",
    "        shuffled_train_data = train_data.sample(frac=1).reset_index() \n",
    "        model.train()\n",
    "        optimizer.zero_grad() \n",
    "        model, optimizer, avg_train_loss = run_data(model, shuffled_train_data, batch_size, \\\n",
    "                                optimizer, tokenizer, device, eval_mode=False)\n",
    "        train_losses.append(avg_train_loss)\n",
    "        if epoch in to_save_epochs:\n",
    "            model.save_pretrained(f\"aviation/trained models/KGinfusedLM/{epoch}\", from_pt=True) \n",
    "        print(f'Epoch {epoch}:\\tTrain loss: {avg_train_loss}')\n",
    "\n"
   ]
  },
  {
   "cell_type": "code",
   "execution_count": null,
   "metadata": {},
   "outputs": [],
   "source": [
    "train_losses"
   ]
  }
 ],
 "metadata": {
  "kernelspec": {
   "display_name": "Python 3",
   "language": "python",
   "name": "python3"
  },
  "language_info": {
   "codemirror_mode": {
    "name": "ipython",
    "version": 3
   },
   "file_extension": ".py",
   "mimetype": "text/x-python",
   "name": "python",
   "nbconvert_exporter": "python",
   "pygments_lexer": "ipython3",
   "version": "3.8.5"
  }
 },
 "nbformat": 4,
 "nbformat_minor": 5
}
